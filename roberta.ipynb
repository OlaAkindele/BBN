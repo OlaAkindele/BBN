{
  "cells": [
    {
      "cell_type": "code",
      "execution_count": 21,
      "metadata": {
        "colab": {
          "base_uri": "https://localhost:8080/"
        },
        "id": "6u8UVi9-8gon",
        "outputId": "75e64b28-42ff-40f5-ec81-8da64c794657"
      },
      "outputs": [
        {
          "name": "stdout",
          "output_type": "stream",
          "text": [
            "Requirement already satisfied: colorama in /usr/local/lib/python3.10/dist-packages (0.4.6)\n",
            "Requirement already satisfied: transformers in /usr/local/lib/python3.10/dist-packages (4.35.2)\n",
            "Requirement already satisfied: filelock in /usr/local/lib/python3.10/dist-packages (from transformers) (3.13.1)\n",
            "Requirement already satisfied: huggingface-hub<1.0,>=0.16.4 in /usr/local/lib/python3.10/dist-packages (from transformers) (0.19.3)\n",
            "Requirement already satisfied: numpy>=1.17 in /usr/local/lib/python3.10/dist-packages (from transformers) (1.23.5)\n",
            "Requirement already satisfied: packaging>=20.0 in /usr/local/lib/python3.10/dist-packages (from transformers) (23.2)\n",
            "Requirement already satisfied: pyyaml>=5.1 in /usr/local/lib/python3.10/dist-packages (from transformers) (6.0.1)\n",
            "Requirement already satisfied: regex!=2019.12.17 in /usr/local/lib/python3.10/dist-packages (from transformers) (2023.6.3)\n",
            "Requirement already satisfied: requests in /usr/local/lib/python3.10/dist-packages (from transformers) (2.31.0)\n",
            "Requirement already satisfied: tokenizers<0.19,>=0.14 in /usr/local/lib/python3.10/dist-packages (from transformers) (0.15.0)\n",
            "Requirement already satisfied: safetensors>=0.3.1 in /usr/local/lib/python3.10/dist-packages (from transformers) (0.4.0)\n",
            "Requirement already satisfied: tqdm>=4.27 in /usr/local/lib/python3.10/dist-packages (from transformers) (4.66.1)\n",
            "Requirement already satisfied: fsspec>=2023.5.0 in /usr/local/lib/python3.10/dist-packages (from huggingface-hub<1.0,>=0.16.4->transformers) (2023.6.0)\n",
            "Requirement already satisfied: typing-extensions>=3.7.4.3 in /usr/local/lib/python3.10/dist-packages (from huggingface-hub<1.0,>=0.16.4->transformers) (4.5.0)\n",
            "Requirement already satisfied: charset-normalizer<4,>=2 in /usr/local/lib/python3.10/dist-packages (from requests->transformers) (3.3.2)\n",
            "Requirement already satisfied: idna<4,>=2.5 in /usr/local/lib/python3.10/dist-packages (from requests->transformers) (3.4)\n",
            "Requirement already satisfied: urllib3<3,>=1.21.1 in /usr/local/lib/python3.10/dist-packages (from requests->transformers) (2.0.7)\n",
            "Requirement already satisfied: certifi>=2017.4.17 in /usr/local/lib/python3.10/dist-packages (from requests->transformers) (2023.7.22)\n"
          ]
        }
      ],
      "source": [
        "!pip install colorama\n",
        "!pip install transformers"
      ]
    },
    {
      "cell_type": "markdown",
      "metadata": {
        "id": "rncziqoSGiZv"
      },
      "source": [
        "<h1><b><span style=\"color: #e56b6f; font-size: 28px\">Libraries & Packages</span></b></h1>\n"
      ]
    },
    {
      "cell_type": "code",
      "execution_count": 40,
      "metadata": {
        "colab": {
          "base_uri": "https://localhost:8080/"
        },
        "id": "gpr5iLnC8CJQ",
        "outputId": "0aac7877-07ad-4d13-95ba-cf83626c7540"
      },
      "outputs": [
        {
          "name": "stderr",
          "output_type": "stream",
          "text": [
            "[nltk_data] Downloading package omw-1.4 to /root/nltk_data...\n",
            "[nltk_data] Downloading package stopwords to /root/nltk_data...\n",
            "[nltk_data]   Unzipping corpora/stopwords.zip.\n",
            "[nltk_data] Downloading package wordnet to /root/nltk_data...\n"
          ]
        },
        {
          "data": {
            "text/plain": [
              "True"
            ]
          },
          "execution_count": 40,
          "metadata": {},
          "output_type": "execute_result"
        }
      ],
      "source": [
        "import numpy as np\n",
        "import pandas as pd\n",
        "import re\n",
        "import string\n",
        "import seaborn as sns\n",
        "import matplotlib.pyplot as plt\n",
        "\n",
        "from colorama import Fore\n",
        "\n",
        "import nltk\n",
        "from nltk.stem.wordnet import WordNetLemmatizer\n",
        "from nltk.corpus import stopwords\n",
        "\n",
        "from sklearn.model_selection import train_test_split\n",
        "from sklearn.metrics import confusion_matrix, classification_report\n",
        "from sklearn.preprocessing import OneHotEncoder\n",
        "\n",
        "from transformers import RobertaTokenizer, AdamWeightDecay, TFAutoModel, TFRobertaModel\n",
        "\n",
        "import tensorflow as tf\n",
        "from tensorflow.keras.callbacks import EarlyStopping, ModelCheckpoint\n",
        "from tensorflow.keras.layers import (Input, LSTM, BatchNormalization,\n",
        "                                        Dense, Dropout, Activation)\n",
        "from tensorflow.keras import Model\n",
        "from tensorflow.keras.losses import CategoricalCrossentropy\n",
        "from tensorflow.keras.metrics import CategoricalAccuracy\n",
        "from tensorflow.keras.utils import plot_model\n",
        "\n",
        "nltk.download('omw-1.4')\n",
        "nltk.download('stopwords')\n",
        "nltk.download('wordnet')"
      ]
    },
    {
      "cell_type": "markdown",
      "metadata": {
        "id": "NTX0jUFdARaT"
      },
      "source": [
        "<h1><b><span style=\"color: #e56b6f; font-size: 28px\">Defaults and Helper Function</span></b></h1>\n"
      ]
    },
    {
      "cell_type": "code",
      "execution_count": 37,
      "metadata": {
        "id": "rASrxr1K8CJX"
      },
      "outputs": [],
      "source": [
        "#defaults\n",
        "SEQ_LEN = 80\n",
        "EPOCHS = 10\n",
        "BATCH_SIZE = 32\n",
        "\n",
        "class CleanTweet():\n",
        "    '''\n",
        "    Remove non-english characters and newline char\n",
        "    Remove numbers, hyperlink, mentions and hashtags\n",
        "    '''\n",
        "    def __init__(self, pattern):\n",
        "        self.pattern = pattern\n",
        "\n",
        "    def __call__(self, text):\n",
        "        if isinstance(text, str):\n",
        "            tweet = text\n",
        "\n",
        "        tweet = re.sub(self.pattern, '', tweet)\n",
        "\n",
        "        return tweet\n",
        "\n",
        "clean = CleanTweet(r'(\\n+)|([0-9])|(#?\\s?[^\\u0000-\\u05C0\\u2100-\\u214F]+)|'\n",
        "                   r'(#[A-Za-z0-9]+)|(https?:\\/\\/.*[\\r\\n]*)|(@[A-Za-z0-9]+)')\n",
        "\n",
        "def cleanLemmatize(text):\n",
        "    #remove punctuations and uppercase\n",
        "    clean_text = text.translate(str.maketrans('','',string.punctuation)).lower()\n",
        "\n",
        "    #remove stopwords\n",
        "    clean_text = [word for word in clean_text.split() if word not in stopwords.words('english')]\n",
        "\n",
        "    #lemmatize the word\n",
        "    sentence = []\n",
        "    for word in clean_text:\n",
        "        lemmatizer = WordNetLemmatizer()\n",
        "        sentence.append(lemmatizer.lemmatize(word, 'v'))\n",
        "\n",
        "    return ' '.join(sentence)\n",
        "\n",
        "\n",
        "def dfInfo(df, name):\n",
        "    negative = df[df.sentiment == 0].shape[0]\n",
        "    neutral = df[df.sentiment == 1].shape[0]\n",
        "    positive = df[df.sentiment == 2].shape[0]\n",
        "\n",
        "    print(f\"\\n{name} -----> shape : {df.shape}\")\n",
        "    print(f\"{name} -----> negative: {negative}, neutral: {neutral}, positive: {positive}\\n\")\n",
        "\n",
        "    return None\n",
        "\n",
        "\n",
        "def tokenize(df, tokenizer:RobertaTokenizer):\n",
        "    input_ids =  []\n",
        "    att_masks =  []\n",
        "\n",
        "    for i, text in enumerate(df['text']):\n",
        "        tokens = tokenizer.encode_plus(text, max_length=SEQ_LEN,\n",
        "                                   truncation=True, padding='max_length',\n",
        "                                   add_special_tokens=True, return_attention_mask=True,\n",
        "                                   return_token_type_ids=False, return_tensors='tf')\n",
        "\n",
        "        input_ids.append(np.asarray(tokens['input_ids']).reshape(SEQ_LEN,))\n",
        "        att_masks.append(np.asarray(tokens['attention_mask']).reshape(SEQ_LEN,))\n",
        "\n",
        "    return (np.asarray(input_ids), np.asarray(att_masks))\n",
        "\n",
        "\n",
        "class RoBERTa():\n",
        "\n",
        "    def __init__(self, train_id, test_id,\n",
        "                 train_mask, test_mask,\n",
        "                 train_y, test_y,\n",
        "                 epochs, batch_size):\n",
        "        self.train_id = train_id\n",
        "        self.test_id = test_id\n",
        "        self.train_mask = train_mask\n",
        "        self.test_mask = test_mask\n",
        "        self.train_y = train_y\n",
        "        self.test_y = test_y\n",
        "        self.epoch = epochs\n",
        "        self.size = batch_size\n",
        "\n",
        "    def train(self):\n",
        "        input_ids = Input(shape=(SEQ_LEN,), name='input_ids', dtype='int32')\n",
        "        mask = Input(shape=(SEQ_LEN,), name='attention_mask', dtype='int32')\n",
        "\n",
        "        roberta = TFAutoModel.from_pretrained(\"roberta-base\")\n",
        "        embeddings = roberta(input_ids, attention_mask=mask)[0]\n",
        "\n",
        "        x = LSTM(128)(embeddings)\n",
        "        x = BatchNormalization()(x)\n",
        "        x = Dense(768)(x)\n",
        "        x = Activation('relu')(x)\n",
        "        x = Dense(768)(x)\n",
        "        x = Dropout(0.1)(x)\n",
        "        y = Dense(3, activation='softmax', name='outputs')(x)\n",
        "\n",
        "        model = Model(inputs=[input_ids, mask], outputs=y)\n",
        "        model.layers[2].trainable = False\n",
        "\n",
        "        print(model.summary())\n",
        "\n",
        "        self.model = model\n",
        "\n",
        "        model.compile(\n",
        "            optimizer=AdamWeightDecay(1e-3, beta_1=.8,\n",
        "                                      beta_2=.9, weight_decay_rate=1e-03),\n",
        "            loss=CategoricalCrossentropy(),\n",
        "            metrics=[CategoricalAccuracy('accuracy')]\n",
        "        )\n",
        "\n",
        "        history = model.fit(\n",
        "            (self.train_id, self.train_mask), self.train_y.toarray(),\n",
        "            validation_data=((self.test_id, self.test_mask), self.test_y.toarray()),\n",
        "            epochs=self.epoch,\n",
        "            batch_size=self.size,\n",
        "            callbacks= [EarlyStopping(patience=5, verbose=1),\n",
        "                        ModelCheckpoint('models/roberta.tf',\n",
        "                                          verbose=1,\n",
        "                                          save_best_only=True\n",
        "                                          )\n",
        "                                    ]\n",
        "        )\n",
        "\n",
        "        return history, model\n",
        "\n",
        "    def model_arc(self):\n",
        "        return plot_model(\n",
        "                  self.model, to_file='model_arc.png', show_shapes=True, show_dtype=True,\n",
        "                  show_layer_names=True, rankdir='TB', expand_nested=True, dpi=96,\n",
        "                  layer_range=None\n",
        "              )\n"
      ]
    },
    {
      "cell_type": "markdown",
      "metadata": {
        "id": "J_7BPzjPGiZ1"
      },
      "source": [
        "<h1><b><span style=\"color: #e56b6f; font-size: 28px\">Data Loading & Preparation</span></b></h1>\n"
      ]
    },
    {
      "cell_type": "code",
      "execution_count": 24,
      "metadata": {
        "colab": {
          "base_uri": "https://localhost:8080/",
          "height": 206
        },
        "id": "FNWKNT888CJa",
        "outputId": "966f0ad0-8cf8-43db-83d8-cef640ac8f9e"
      },
      "outputs": [
        {
          "data": {
            "text/html": [
              "\n",
              "  <div id=\"df-9b5e969c-b2c5-4e9d-80ee-29b83fdd953f\" class=\"colab-df-container\">\n",
              "    <div>\n",
              "<style scoped>\n",
              "    .dataframe tbody tr th:only-of-type {\n",
              "        vertical-align: middle;\n",
              "    }\n",
              "\n",
              "    .dataframe tbody tr th {\n",
              "        vertical-align: top;\n",
              "    }\n",
              "\n",
              "    .dataframe thead th {\n",
              "        text-align: right;\n",
              "    }\n",
              "</style>\n",
              "<table border=\"1\" class=\"dataframe\">\n",
              "  <thead>\n",
              "    <tr style=\"text-align: right;\">\n",
              "      <th></th>\n",
              "      <th>text</th>\n",
              "      <th>sentiment</th>\n",
              "    </tr>\n",
              "  </thead>\n",
              "  <tbody>\n",
              "    <tr>\n",
              "      <th>0</th>\n",
              "      <td>come ask leave house sunday live eviction show...</td>\n",
              "      <td>2</td>\n",
              "    </tr>\n",
              "    <tr>\n",
              "      <th>1</th>\n",
              "      <td>gonna lie big brother mess isnt fair even fan</td>\n",
              "      <td>2</td>\n",
              "    </tr>\n",
              "    <tr>\n",
              "      <th>2</th>\n",
              "      <td>production team doesnt care bite people mental...</td>\n",
              "      <td>0</td>\n",
              "    </tr>\n",
              "    <tr>\n",
              "      <th>3</th>\n",
              "      <td>kayode one responsible show bore hms</td>\n",
              "      <td>2</td>\n",
              "    </tr>\n",
              "    <tr>\n",
              "      <th>4</th>\n",
              "      <td>video s fan protest bbnaijas eviction twist lagos</td>\n",
              "      <td>1</td>\n",
              "    </tr>\n",
              "  </tbody>\n",
              "</table>\n",
              "</div>\n",
              "    <div class=\"colab-df-buttons\">\n",
              "\n",
              "  <div class=\"colab-df-container\">\n",
              "    <button class=\"colab-df-convert\" onclick=\"convertToInteractive('df-9b5e969c-b2c5-4e9d-80ee-29b83fdd953f')\"\n",
              "            title=\"Convert this dataframe to an interactive table.\"\n",
              "            style=\"display:none;\">\n",
              "\n",
              "  <svg xmlns=\"http://www.w3.org/2000/svg\" height=\"24px\" viewBox=\"0 -960 960 960\">\n",
              "    <path d=\"M120-120v-720h720v720H120Zm60-500h600v-160H180v160Zm220 220h160v-160H400v160Zm0 220h160v-160H400v160ZM180-400h160v-160H180v160Zm440 0h160v-160H620v160ZM180-180h160v-160H180v160Zm440 0h160v-160H620v160Z\"/>\n",
              "  </svg>\n",
              "    </button>\n",
              "\n",
              "  <style>\n",
              "    .colab-df-container {\n",
              "      display:flex;\n",
              "      gap: 12px;\n",
              "    }\n",
              "\n",
              "    .colab-df-convert {\n",
              "      background-color: #E8F0FE;\n",
              "      border: none;\n",
              "      border-radius: 50%;\n",
              "      cursor: pointer;\n",
              "      display: none;\n",
              "      fill: #1967D2;\n",
              "      height: 32px;\n",
              "      padding: 0 0 0 0;\n",
              "      width: 32px;\n",
              "    }\n",
              "\n",
              "    .colab-df-convert:hover {\n",
              "      background-color: #E2EBFA;\n",
              "      box-shadow: 0px 1px 2px rgba(60, 64, 67, 0.3), 0px 1px 3px 1px rgba(60, 64, 67, 0.15);\n",
              "      fill: #174EA6;\n",
              "    }\n",
              "\n",
              "    .colab-df-buttons div {\n",
              "      margin-bottom: 4px;\n",
              "    }\n",
              "\n",
              "    [theme=dark] .colab-df-convert {\n",
              "      background-color: #3B4455;\n",
              "      fill: #D2E3FC;\n",
              "    }\n",
              "\n",
              "    [theme=dark] .colab-df-convert:hover {\n",
              "      background-color: #434B5C;\n",
              "      box-shadow: 0px 1px 3px 1px rgba(0, 0, 0, 0.15);\n",
              "      filter: drop-shadow(0px 1px 2px rgba(0, 0, 0, 0.3));\n",
              "      fill: #FFFFFF;\n",
              "    }\n",
              "  </style>\n",
              "\n",
              "    <script>\n",
              "      const buttonEl =\n",
              "        document.querySelector('#df-9b5e969c-b2c5-4e9d-80ee-29b83fdd953f button.colab-df-convert');\n",
              "      buttonEl.style.display =\n",
              "        google.colab.kernel.accessAllowed ? 'block' : 'none';\n",
              "\n",
              "      async function convertToInteractive(key) {\n",
              "        const element = document.querySelector('#df-9b5e969c-b2c5-4e9d-80ee-29b83fdd953f');\n",
              "        const dataTable =\n",
              "          await google.colab.kernel.invokeFunction('convertToInteractive',\n",
              "                                                    [key], {});\n",
              "        if (!dataTable) return;\n",
              "\n",
              "        const docLinkHtml = 'Like what you see? Visit the ' +\n",
              "          '<a target=\"_blank\" href=https://colab.research.google.com/notebooks/data_table.ipynb>data table notebook</a>'\n",
              "          + ' to learn more about interactive tables.';\n",
              "        element.innerHTML = '';\n",
              "        dataTable['output_type'] = 'display_data';\n",
              "        await google.colab.output.renderOutput(dataTable, element);\n",
              "        const docLink = document.createElement('div');\n",
              "        docLink.innerHTML = docLinkHtml;\n",
              "        element.appendChild(docLink);\n",
              "      }\n",
              "    </script>\n",
              "  </div>\n",
              "\n",
              "\n",
              "<div id=\"df-d21d50a5-5176-48f6-b9eb-5aa9b0c53dbe\">\n",
              "  <button class=\"colab-df-quickchart\" onclick=\"quickchart('df-d21d50a5-5176-48f6-b9eb-5aa9b0c53dbe')\"\n",
              "            title=\"Suggest charts\"\n",
              "            style=\"display:none;\">\n",
              "\n",
              "<svg xmlns=\"http://www.w3.org/2000/svg\" height=\"24px\"viewBox=\"0 0 24 24\"\n",
              "     width=\"24px\">\n",
              "    <g>\n",
              "        <path d=\"M19 3H5c-1.1 0-2 .9-2 2v14c0 1.1.9 2 2 2h14c1.1 0 2-.9 2-2V5c0-1.1-.9-2-2-2zM9 17H7v-7h2v7zm4 0h-2V7h2v10zm4 0h-2v-4h2v4z\"/>\n",
              "    </g>\n",
              "</svg>\n",
              "  </button>\n",
              "\n",
              "<style>\n",
              "  .colab-df-quickchart {\n",
              "      --bg-color: #E8F0FE;\n",
              "      --fill-color: #1967D2;\n",
              "      --hover-bg-color: #E2EBFA;\n",
              "      --hover-fill-color: #174EA6;\n",
              "      --disabled-fill-color: #AAA;\n",
              "      --disabled-bg-color: #DDD;\n",
              "  }\n",
              "\n",
              "  [theme=dark] .colab-df-quickchart {\n",
              "      --bg-color: #3B4455;\n",
              "      --fill-color: #D2E3FC;\n",
              "      --hover-bg-color: #434B5C;\n",
              "      --hover-fill-color: #FFFFFF;\n",
              "      --disabled-bg-color: #3B4455;\n",
              "      --disabled-fill-color: #666;\n",
              "  }\n",
              "\n",
              "  .colab-df-quickchart {\n",
              "    background-color: var(--bg-color);\n",
              "    border: none;\n",
              "    border-radius: 50%;\n",
              "    cursor: pointer;\n",
              "    display: none;\n",
              "    fill: var(--fill-color);\n",
              "    height: 32px;\n",
              "    padding: 0;\n",
              "    width: 32px;\n",
              "  }\n",
              "\n",
              "  .colab-df-quickchart:hover {\n",
              "    background-color: var(--hover-bg-color);\n",
              "    box-shadow: 0 1px 2px rgba(60, 64, 67, 0.3), 0 1px 3px 1px rgba(60, 64, 67, 0.15);\n",
              "    fill: var(--button-hover-fill-color);\n",
              "  }\n",
              "\n",
              "  .colab-df-quickchart-complete:disabled,\n",
              "  .colab-df-quickchart-complete:disabled:hover {\n",
              "    background-color: var(--disabled-bg-color);\n",
              "    fill: var(--disabled-fill-color);\n",
              "    box-shadow: none;\n",
              "  }\n",
              "\n",
              "  .colab-df-spinner {\n",
              "    border: 2px solid var(--fill-color);\n",
              "    border-color: transparent;\n",
              "    border-bottom-color: var(--fill-color);\n",
              "    animation:\n",
              "      spin 1s steps(1) infinite;\n",
              "  }\n",
              "\n",
              "  @keyframes spin {\n",
              "    0% {\n",
              "      border-color: transparent;\n",
              "      border-bottom-color: var(--fill-color);\n",
              "      border-left-color: var(--fill-color);\n",
              "    }\n",
              "    20% {\n",
              "      border-color: transparent;\n",
              "      border-left-color: var(--fill-color);\n",
              "      border-top-color: var(--fill-color);\n",
              "    }\n",
              "    30% {\n",
              "      border-color: transparent;\n",
              "      border-left-color: var(--fill-color);\n",
              "      border-top-color: var(--fill-color);\n",
              "      border-right-color: var(--fill-color);\n",
              "    }\n",
              "    40% {\n",
              "      border-color: transparent;\n",
              "      border-right-color: var(--fill-color);\n",
              "      border-top-color: var(--fill-color);\n",
              "    }\n",
              "    60% {\n",
              "      border-color: transparent;\n",
              "      border-right-color: var(--fill-color);\n",
              "    }\n",
              "    80% {\n",
              "      border-color: transparent;\n",
              "      border-right-color: var(--fill-color);\n",
              "      border-bottom-color: var(--fill-color);\n",
              "    }\n",
              "    90% {\n",
              "      border-color: transparent;\n",
              "      border-bottom-color: var(--fill-color);\n",
              "    }\n",
              "  }\n",
              "</style>\n",
              "\n",
              "  <script>\n",
              "    async function quickchart(key) {\n",
              "      const quickchartButtonEl =\n",
              "        document.querySelector('#' + key + ' button');\n",
              "      quickchartButtonEl.disabled = true;  // To prevent multiple clicks.\n",
              "      quickchartButtonEl.classList.add('colab-df-spinner');\n",
              "      try {\n",
              "        const charts = await google.colab.kernel.invokeFunction(\n",
              "            'suggestCharts', [key], {});\n",
              "      } catch (error) {\n",
              "        console.error('Error during call to suggestCharts:', error);\n",
              "      }\n",
              "      quickchartButtonEl.classList.remove('colab-df-spinner');\n",
              "      quickchartButtonEl.classList.add('colab-df-quickchart-complete');\n",
              "    }\n",
              "    (() => {\n",
              "      let quickchartButtonEl =\n",
              "        document.querySelector('#df-d21d50a5-5176-48f6-b9eb-5aa9b0c53dbe button');\n",
              "      quickchartButtonEl.style.display =\n",
              "        google.colab.kernel.accessAllowed ? 'block' : 'none';\n",
              "    })();\n",
              "  </script>\n",
              "</div>\n",
              "    </div>\n",
              "  </div>\n"
            ],
            "text/plain": [
              "                                                text  sentiment\n",
              "0  come ask leave house sunday live eviction show...          2\n",
              "1      gonna lie big brother mess isnt fair even fan          2\n",
              "2  production team doesnt care bite people mental...          0\n",
              "3               kayode one responsible show bore hms          2\n",
              "4  video s fan protest bbnaijas eviction twist lagos          1"
            ]
          },
          "execution_count": 24,
          "metadata": {},
          "output_type": "execute_result"
        }
      ],
      "source": [
        "new_df = pd.read_csv('processed_data.csv')\n",
        "new_df.head()"
      ]
    },
    {
      "cell_type": "code",
      "execution_count": 25,
      "metadata": {
        "colab": {
          "base_uri": "https://localhost:8080/"
        },
        "id": "Jockvt_u8CJb",
        "outputId": "714ff372-0bf9-47e6-e335-ebb3f4f8937b"
      },
      "outputs": [
        {
          "name": "stdout",
          "output_type": "stream",
          "text": [
            "\n",
            "train -----> shape : (15284, 2)\n",
            "train -----> negative: 2214, neutral: 6981, positive: 6089\n",
            "\n",
            "\n",
            "validation -----> shape : (3822, 2)\n",
            "validation -----> negative: 545, neutral: 1769, positive: 1508\n",
            "\n"
          ]
        }
      ],
      "source": [
        "train, test = train_test_split(new_df, test_size = 0.2, shuffle=True)\n",
        "\n",
        "dfInfo(train, 'train')\n",
        "dfInfo(test, 'validation')\n",
        "\n",
        "train_x, train_y = train[['text']], train[['sentiment']]\n",
        "\n",
        "test_x, test_y = test[['text']], test[['sentiment']]"
      ]
    },
    {
      "cell_type": "code",
      "execution_count": 26,
      "metadata": {
        "id": "T8XIabFT8CJc"
      },
      "outputs": [],
      "source": [
        "train_y = OneHotEncoder().fit_transform(np.array(train_y).reshape(-1, 1))\n",
        "test_y = OneHotEncoder().fit_transform(np.array(test_y).reshape(-1, 1))\n"
      ]
    },
    {
      "cell_type": "code",
      "execution_count": 27,
      "metadata": {
        "colab": {
          "base_uri": "https://localhost:8080/"
        },
        "id": "c83dyzCK8CJc",
        "outputId": "648eb85f-34dd-43bd-d7a9-3a263afa1a3b"
      },
      "outputs": [
        {
          "data": {
            "text/plain": [
              "array([[0., 1., 0.],\n",
              "       [1., 0., 0.],\n",
              "       [1., 0., 0.],\n",
              "       ...,\n",
              "       [0., 1., 0.],\n",
              "       [0., 1., 0.],\n",
              "       [0., 0., 1.]])"
            ]
          },
          "execution_count": 27,
          "metadata": {},
          "output_type": "execute_result"
        }
      ],
      "source": [
        "test_y.toarray()"
      ]
    },
    {
      "cell_type": "markdown",
      "metadata": {
        "id": "EdAjzhZh8CJd"
      },
      "source": [
        "<h1><b><span style=\"color: #e56b6f; font-size: 20px\">Tokenization</span></b></h1>\n"
      ]
    },
    {
      "cell_type": "code",
      "execution_count": 28,
      "metadata": {
        "id": "5AQzi_sy8CJf"
      },
      "outputs": [],
      "source": [
        "#Tokenization with RoBERTa Tokenizer\n",
        "tokenizer = RobertaTokenizer.from_pretrained(\"roberta-base\")"
      ]
    },
    {
      "cell_type": "code",
      "execution_count": 29,
      "metadata": {
        "id": "q0jSEqKi8CJg"
      },
      "outputs": [],
      "source": [
        "train_ids, train_masks = tokenize(train_x, tokenizer=tokenizer)\n",
        "valid_ids, valid_masks = tokenize(test_x, tokenizer=tokenizer)"
      ]
    },
    {
      "cell_type": "code",
      "execution_count": 30,
      "metadata": {
        "colab": {
          "base_uri": "https://localhost:8080/"
        },
        "id": "9AS7rVlJ8CJh",
        "outputId": "9b7fa97c-5a15-4b46-b936-7372b4e7def7"
      },
      "outputs": [
        {
          "data": {
            "text/plain": [
              "array([    0,   417,  2533, 21943,  2968,    29, 33976, 21662,  1369,\n",
              "        2350, 10219,   900, 11907,  2968,    29,     2,     1,     1,\n",
              "           1,     1,     1,     1,     1,     1,     1,     1,     1,\n",
              "           1,     1,     1,     1,     1,     1,     1,     1,     1,\n",
              "           1,     1,     1,     1,     1,     1,     1,     1,     1,\n",
              "           1,     1,     1,     1,     1,     1,     1,     1,     1,\n",
              "           1,     1,     1,     1,     1,     1,     1,     1,     1,\n",
              "           1,     1,     1,     1,     1,     1,     1,     1,     1,\n",
              "           1,     1,     1,     1,     1,     1,     1,     1],\n",
              "      dtype=int32)"
            ]
          },
          "execution_count": 30,
          "metadata": {},
          "output_type": "execute_result"
        }
      ],
      "source": [
        "train_ids[0]"
      ]
    },
    {
      "cell_type": "markdown",
      "metadata": {
        "id": "QZFezzX38CJi"
      },
      "source": [
        "<h1><b><span style=\"color: #e56b6f; font-size: 28px\">Model Training</span></b></h1>\n"
      ]
    },
    {
      "cell_type": "code",
      "execution_count": 31,
      "metadata": {
        "colab": {
          "base_uri": "https://localhost:8080/"
        },
        "id": "OWQvPXvN8CJj",
        "outputId": "f70d562b-41cc-4f37-e161-dc86b35c29e0"
      },
      "outputs": [
        {
          "name": "stderr",
          "output_type": "stream",
          "text": [
            "Some weights of the PyTorch model were not used when initializing the TF 2.0 model TFRobertaModel: ['lm_head.dense.weight', 'lm_head.bias', 'lm_head.dense.bias', 'lm_head.layer_norm.bias', 'lm_head.layer_norm.weight', 'roberta.embeddings.position_ids']\n",
            "- This IS expected if you are initializing TFRobertaModel from a PyTorch model trained on another task or with another architecture (e.g. initializing a TFBertForSequenceClassification model from a BertForPreTraining model).\n",
            "- This IS NOT expected if you are initializing TFRobertaModel from a PyTorch model that you expect to be exactly identical (e.g. initializing a TFBertForSequenceClassification model from a BertForSequenceClassification model).\n",
            "Some weights or buffers of the TF 2.0 model TFRobertaModel were not initialized from the PyTorch model and are newly initialized: ['roberta.pooler.dense.weight', 'roberta.pooler.dense.bias']\n",
            "You should probably TRAIN this model on a down-stream task to be able to use it for predictions and inference.\n"
          ]
        },
        {
          "name": "stdout",
          "output_type": "stream",
          "text": [
            "Model: \"model_2\"\n",
            "__________________________________________________________________________________________________\n",
            " Layer (type)                Output Shape                 Param #   Connected to                  \n",
            "==================================================================================================\n",
            " input_ids (InputLayer)      [(None, 80)]                 0         []                            \n",
            "                                                                                                  \n",
            " attention_mask (InputLayer  [(None, 80)]                 0         []                            \n",
            " )                                                                                                \n",
            "                                                                                                  \n",
            " tf_roberta_model_2 (TFRobe  TFBaseModelOutputWithPooli   1246456   ['input_ids[0][0]',           \n",
            " rtaModel)                   ngAndCrossAttentions(last_   32         'attention_mask[0][0]']      \n",
            "                             hidden_state=(None, 80, 76                                           \n",
            "                             8),                                                                  \n",
            "                              pooler_output=(None, 768)                                           \n",
            "                             , past_key_values=None, hi                                           \n",
            "                             dden_states=None, attentio                                           \n",
            "                             ns=None, cross_attentions=                                           \n",
            "                             None)                                                                \n",
            "                                                                                                  \n",
            " lstm_2 (LSTM)               (None, 128)                  459264    ['tf_roberta_model_2[0][0]']  \n",
            "                                                                                                  \n",
            " batch_normalization_2 (Bat  (None, 128)                  512       ['lstm_2[0][0]']              \n",
            " chNormalization)                                                                                 \n",
            "                                                                                                  \n",
            " dense_4 (Dense)             (None, 768)                  99072     ['batch_normalization_2[0][0]'\n",
            "                                                                    ]                             \n",
            "                                                                                                  \n",
            " activation_2 (Activation)   (None, 768)                  0         ['dense_4[0][0]']             \n",
            "                                                                                                  \n",
            " dense_5 (Dense)             (None, 768)                  590592    ['activation_2[0][0]']        \n",
            "                                                                                                  \n",
            " dropout_150 (Dropout)       (None, 768)                  0         ['dense_5[0][0]']             \n",
            "                                                                                                  \n",
            " outputs (Dense)             (None, 3)                    2307      ['dropout_150[0][0]']         \n",
            "                                                                                                  \n",
            "==================================================================================================\n",
            "Total params: 125797379 (479.88 MB)\n",
            "Trainable params: 1151491 (4.39 MB)\n",
            "Non-trainable params: 124645888 (475.49 MB)\n",
            "__________________________________________________________________________________________________\n",
            "None\n",
            "Epoch 1/10\n",
            "478/478 [==============================] - ETA: 0s - loss: 0.8509 - accuracy: 0.6373\n",
            "Epoch 1: val_loss improved from inf to 1.28538, saving model to models/roberta.tf\n",
            "478/478 [==============================] - 192s 341ms/step - loss: 0.8509 - accuracy: 0.6373 - val_loss: 1.2854 - val_accuracy: 0.4762\n",
            "Epoch 2/10\n",
            "478/478 [==============================] - ETA: 0s - loss: 0.7315 - accuracy: 0.6847\n",
            "Epoch 2: val_loss improved from 1.28538 to 0.90066, saving model to models/roberta.tf\n",
            "478/478 [==============================] - 198s 416ms/step - loss: 0.7315 - accuracy: 0.6847 - val_loss: 0.9007 - val_accuracy: 0.6465\n",
            "Epoch 3/10\n",
            "478/478 [==============================] - ETA: 0s - loss: 0.7050 - accuracy: 0.6973\n",
            "Epoch 3: val_loss improved from 0.90066 to 0.71765, saving model to models/roberta.tf\n",
            "478/478 [==============================] - 162s 340ms/step - loss: 0.7050 - accuracy: 0.6973 - val_loss: 0.7177 - val_accuracy: 0.7043\n",
            "Epoch 4/10\n",
            "478/478 [==============================] - ETA: 0s - loss: 0.6657 - accuracy: 0.7208\n",
            "Epoch 4: val_loss did not improve from 0.71765\n",
            "478/478 [==============================] - 111s 232ms/step - loss: 0.6657 - accuracy: 0.7208 - val_loss: 0.7214 - val_accuracy: 0.7190\n",
            "Epoch 5/10\n",
            "478/478 [==============================] - ETA: 0s - loss: 0.6246 - accuracy: 0.7433\n",
            "Epoch 5: val_loss did not improve from 0.71765\n",
            "478/478 [==============================] - 111s 233ms/step - loss: 0.6246 - accuracy: 0.7433 - val_loss: 0.8729 - val_accuracy: 0.7114\n",
            "Epoch 6/10\n",
            "478/478 [==============================] - ETA: 0s - loss: 0.5812 - accuracy: 0.7605\n",
            "Epoch 6: val_loss did not improve from 0.71765\n",
            "478/478 [==============================] - 111s 233ms/step - loss: 0.5812 - accuracy: 0.7605 - val_loss: 0.7525 - val_accuracy: 0.7619\n",
            "Epoch 7/10\n",
            "478/478 [==============================] - ETA: 0s - loss: 0.5486 - accuracy: 0.7800\n",
            "Epoch 7: val_loss improved from 0.71765 to 0.66104, saving model to models/roberta.tf\n",
            "478/478 [==============================] - 158s 332ms/step - loss: 0.5486 - accuracy: 0.7800 - val_loss: 0.6610 - val_accuracy: 0.7852\n",
            "Epoch 8/10\n",
            "478/478 [==============================] - ETA: 0s - loss: 0.5202 - accuracy: 0.7942\n",
            "Epoch 8: val_loss improved from 0.66104 to 0.61814, saving model to models/roberta.tf\n",
            "478/478 [==============================] - 159s 332ms/step - loss: 0.5202 - accuracy: 0.7942 - val_loss: 0.6181 - val_accuracy: 0.8040\n",
            "Epoch 9/10\n",
            "478/478 [==============================] - ETA: 0s - loss: 0.4817 - accuracy: 0.8143\n",
            "Epoch 9: val_loss improved from 0.61814 to 0.61621, saving model to models/roberta.tf\n",
            "478/478 [==============================] - 165s 344ms/step - loss: 0.4817 - accuracy: 0.8143 - val_loss: 0.6162 - val_accuracy: 0.8103\n",
            "Epoch 10/10\n",
            "478/478 [==============================] - ETA: 0s - loss: 0.4482 - accuracy: 0.8324\n",
            "Epoch 10: val_loss improved from 0.61621 to 0.58800, saving model to models/roberta.tf\n",
            "478/478 [==============================] - 164s 343ms/step - loss: 0.4482 - accuracy: 0.8324 - val_loss: 0.5880 - val_accuracy: 0.8106\n"
          ]
        }
      ],
      "source": [
        "model = RoBERTa(train_ids, valid_ids,\n",
        "                train_masks, valid_masks, train_y,\n",
        "                test_y, epochs=10, batch_size=32)\n",
        "history, model = model.train()"
      ]
    },
    {
      "cell_type": "code",
      "execution_count": 33,
      "metadata": {
        "colab": {
          "base_uri": "https://localhost:8080/",
          "height": 331
        },
        "id": "OWJrmGqqGiZ7",
        "outputId": "d098db01-0282-4db8-e00d-0e13ef9afdd9"
      },
      "outputs": [
        {
          "data": {
            "image/png": "[encoded data removed]",
            "text/plain": [
              "<Figure size 3000x800 with 2 Axes>"
            ]
          },
          "metadata": {},
          "output_type": "display_data"
        }
      ],
      "source": [
        "\n",
        "acc = history.history['accuracy']\n",
        "val_acc = history.history['val_accuracy']\n",
        "\n",
        "loss = history.history['loss']\n",
        "val_loss = history.history['val_loss']\n",
        "\n",
        "epochs_range = range(10)\n",
        "\n",
        "plt.figure(figsize=(30, 8))\n",
        "plt.subplot(1, 2, 1)\n",
        "plt.plot(epochs_range, acc, label='Training Accuracy')\n",
        "plt.plot(epochs_range, val_acc, label='Validation Accuracy')\n",
        "plt.legend(loc='lower right')\n",
        "plt.title('Training and Validation Accuracy')\n",
        "\n",
        "plt.subplot(1, 2, 2)\n",
        "plt.plot(epochs_range, loss, label='Training Loss')\n",
        "plt.plot(epochs_range, val_loss, label='Validation Loss')\n",
        "plt.legend(loc='upper right')\n",
        "plt.title('Training and Validation Loss')\n",
        "\n",
        "plt.show()"
      ]
    },
    {
      "cell_type": "markdown",
      "metadata": {
        "id": "og-bO_4PGiZ7"
      },
      "source": [
        "<h1><b><span style=\"color: #e56b6f; font-size: 28px\">Inference and Results</span></b></h1>\n"
      ]
    },
    {
      "cell_type": "code",
      "execution_count": 34,
      "metadata": {
        "id": "-l6aHlHxNhTT"
      },
      "outputs": [],
      "source": [
        "def prep_data(text):\n",
        "    text = clean(text)\n",
        "\n",
        "    tokens = tokenizer.encode_plus(text, max_length=80,\n",
        "                                   truncation=True, padding='max_length',\n",
        "                                   add_special_tokens=True, return_token_type_ids=False,\n",
        "                                   return_tensors='tf')\n",
        "\n",
        "    return {'input_ids': tf.cast(tokens['input_ids'], tf.float64),\n",
        "            'attention_mask': tf.cast(tokens['attention_mask'], tf.float64)}\n",
        "\n",
        "def predict(text):\n",
        "    in_tensor = prep_data(text)\n",
        "    probs = model.predict(in_tensor)[0]\n",
        "    return (np.argmax(probs))"
      ]
    },
    {
      "cell_type": "code",
      "execution_count": 35,
      "metadata": {
        "colab": {
          "base_uri": "https://localhost:8080/"
        },
        "id": "GGm-XgrV8CJk",
        "outputId": "acc20517-33ab-4dc6-c633-1f6cf3374cf2"
      },
      "outputs": [
        {
          "name": "stdout",
          "output_type": "stream",
          "text": [
            "1/1 [==============================] - 3s 3s/step\n",
            "1/1 [==============================] - 0s 54ms/step\n",
            "1/1 [==============================] - 0s 52ms/step\n",
            "1/1 [==============================] - 0s 54ms/step\n",
            "1/1 [==============================] - 0s 54ms/step\n",
            "1/1 [==============================] - 0s 58ms/step\n",
            "1/1 [==============================] - 0s 57ms/step\n",
            "1/1 [==============================] - 0s 52ms/step\n",
            "1/1 [==============================] - 0s 59ms/step\n",
            "1/1 [==============================] - 0s 54ms/step\n",
            "1/1 [==============================] - 0s 55ms/step\n",
            "1/1 [==============================] - 0s 55ms/step\n",
            "1/1 [==============================] - 0s 59ms/step\n",
            "1/1 [==============================] - 0s 53ms/step\n",
            "1/1 [==============================] - 0s 52ms/step\n",
            "1/1 [==============================] - 0s 50ms/step\n",
            "1/1 [==============================] - 0s 55ms/step\n",
            "1/1 [==============================] - 0s 54ms/step\n",
            "1/1 [==============================] - 0s 57ms/step\n",
            "1/1 [==============================] - 0s 50ms/step\n",
            "1/1 [==============================] - 0s 53ms/step\n",
            "1/1 [==============================] - 0s 58ms/step\n",
            "1/1 [==============================] - 0s 54ms/step\n",
            "1/1 [==============================] - 0s 51ms/step\n",
            "1/1 [==============================] - 0s 52ms/step\n",
            "1/1 [==============================] - 0s 57ms/step\n",
            "1/1 [==============================] - 0s 51ms/step\n",
            "1/1 [==============================] - 0s 53ms/step\n",
            "1/1 [==============================] - 0s 80ms/step\n",
            "1/1 [==============================] - 0s 77ms/step\n",
            "1/1 [==============================] - 0s 87ms/step\n",
            "1/1 [==============================] - 0s 75ms/step\n",
            "1/1 [==============================] - 0s 131ms/step\n",
            "1/1 [==============================] - 0s 180ms/step\n",
            "1/1 [==============================] - 0s 105ms/step\n",
            "1/1 [==============================] - 0s 130ms/step\n",
            "1/1 [==============================] - 0s 139ms/step\n",
            "1/1 [==============================] - 0s 189ms/step\n",
            "1/1 [==============================] - 0s 158ms/step\n",
            "1/1 [==============================] - 0s 105ms/step\n"
          ]
        }
      ],
      "source": [
        "#predict on the first 40 tweets in the validation dataset\n",
        "\n",
        "predictions = np.asarray(test['text'][:40].apply(lambda x: predict(x)))\n",
        "test_vals = test_y[:40].toarray().argmax(1)\n"
      ]
    },
    {
      "cell_type": "code",
      "execution_count": 36,
      "metadata": {
        "colab": {
          "base_uri": "https://localhost:8080/",
          "height": 648
        },
        "id": "mMVAuHVC8CJk",
        "outputId": "0f3c0f89-ab75-45e6-ca5c-80e06d531346"
      },
      "outputs": [
        {
          "data": {
            "image/png": "[encoded data removed]",
            "text/plain": [
              "<Figure size 640x480 with 2 Axes>"
            ]
          },
          "metadata": {},
          "output_type": "display_data"
        },
        {
          "name": "stdout",
          "output_type": "stream",
          "text": [
            "              precision    recall  f1-score   support\n",
            "\n",
            "         bad     0.9091    0.7143    0.8000        14\n",
            "     neutral     0.6429    0.9000    0.7500        10\n",
            "        good     0.9333    0.8750    0.9032        16\n",
            "\n",
            "    accuracy                         0.8250        40\n",
            "   macro avg     0.8284    0.8298    0.8177        40\n",
            "weighted avg     0.8522    0.8250    0.8288        40\n",
            "\n"
          ]
        }
      ],
      "source": [
        "confusion = confusion_matrix(test_vals, predictions)\n",
        "\n",
        "# plot confusion matrix\n",
        "sns.set(font_scale=1.0)\n",
        "labels = [\"bad\", \"neutral\", \"good\"]\n",
        "ax = sns.heatmap(confusion, annot=True, annot_kws={\"size\": 11},\n",
        "                 fmt='d', vmin = 0, cmap='Blues', yticklabels=labels,\n",
        "                 xticklabels=labels)\n",
        "ax.set_xlabel('Predicted Class')\n",
        "ax.set_ylabel('True Class')\n",
        "ax.xaxis.set_label_position('top')\n",
        "ax.xaxis.tick_top()\n",
        "plt.show()\n",
        "\n",
        "# print classification report\n",
        "report = classification_report(test_vals, predictions, digits = 4, output_dict=False,\n",
        "                               target_names=[\"bad\", \"neutral\", \"good\"],)\n",
        "print(report)"
      ]
    },
    {
      "cell_type": "markdown",
      "metadata": {
        "id": "5byV4v09QUan"
      },
      "source": [
        "<h1><b><span style=\"color: #e56b6f; font-size: 28px\">Deployment</span></b></h1>\n"
      ]
    },
    {
      "cell_type": "code",
      "execution_count": 42,
      "metadata": {
        "colab": {
          "base_uri": "https://localhost:8080/"
        },
        "id": "4FRW9UE1QYBJ",
        "outputId": "76ced827-d6ba-4252-8360-42bc74c6e80b"
      },
      "outputs": [
        {
          "name": "stdout",
          "output_type": "stream",
          "text": [
            "1/1 [==============================] - 0s 92ms/step\n",
            "\"Angel is a very bad person. She shouldnt have done that to Pere\" is a \u001b[31mNegative tweet \n"
          ]
        }
      ],
      "source": [
        "def dl_predict(text):\n",
        "    clean_text = cleanLemmatize(text)\n",
        "    in_tensor = prep_data(clean_text)\n",
        "    probs = model.predict(in_tensor)[0]\n",
        "    pred = (np.argmax(probs))\n",
        "\n",
        "    if pred == 0:\n",
        "        sentiment = Fore.RED +'Negative'\n",
        "\n",
        "    elif pred == 1:\n",
        "        sentiment = Fore.BLACK + 'Neutral'\n",
        "\n",
        "    else:\n",
        "        sentiment = Fore.GREEN + 'Positive'\n",
        "\n",
        "    print(text + ' is a ' + sentiment + ' tweet ')\n",
        "\n",
        "text = '\"Angel is a very bad person. She shouldnt have done that to Pere\"'\n",
        "\n",
        "dl_predict(text)"
      ]
    },
    {
      "cell_type": "code",
      "execution_count": 46,
      "metadata": {
        "colab": {
          "base_uri": "https://localhost:8080/"
        },
        "id": "ojNiSOp_Wwxd",
        "outputId": "91407f4d-299f-42ea-8079-973841854915"
      },
      "outputs": [
        {
          "name": "stdout",
          "output_type": "stream",
          "text": [
            "1/1 [==============================] - 0s 178ms/step\n",
            "\"wtf is wrong with queen!!\" is a \u001b[31mNegative tweet \n"
          ]
        }
      ],
      "source": [
        "text2 = '\"wtf is wrong with queen!!\"'\n",
        "\n",
        "dl_predict(text2)"
      ]
    },
    {
      "cell_type": "code",
      "execution_count": 49,
      "metadata": {
        "colab": {
          "base_uri": "https://localhost:8080/"
        },
        "id": "KT15vDU7XK0k",
        "outputId": "5a978802-edd2-43fd-b4e8-7eabcc8efc59"
      },
      "outputs": [
        {
          "name": "stdout",
          "output_type": "stream",
          "text": [
            "1/1 [==============================] - 0s 86ms/step\n",
            "\"Big brother is being fair in the decision:)\" is a \u001b[32mPositive tweet \n"
          ]
        }
      ],
      "source": [
        "text3 = '\"Big brother is being fair in the decision:)\"'\n",
        "\n",
        "dl_predict(text3)"
      ]
    }
  ],
  "metadata": {
    "accelerator": "GPU",
    "colab": {
      "gpuType": "T4",
      "provenance": []
    },
    "kernelspec": {
      "display_name": "Python 3",
      "name": "python3"
    },
    "language_info": {
      "codemirror_mode": {
        "name": "ipython",
        "version": 3
      },
      "file_extension": ".py",
      "mimetype": "text/x-python",
      "name": "python",
      "nbconvert_exporter": "python",
      "pygments_lexer": "ipython3",
      "version": "3.10.12"
    }
  },
  "nbformat": 4,
  "nbformat_minor": 0
}
