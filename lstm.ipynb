{
  "cells": [
    {
      "cell_type": "markdown",
      "metadata": {
        "id": "Fuk8xGZ7kFyr"
      },
      "source": [
        "<h1><b><span style=\"color: #e56b6f; font-size: 28px\">IMPORTING LIBRARIES</span></b></h1>\n"
      ]
    },
    {
      "cell_type": "code",
      "execution_count": 25,
      "metadata": {
        "id": "SU6womkxkFyv",
        "scrolled": false,
        "colab": {
          "base_uri": "https://localhost:8080/"
        },
        "outputId": "024f1c5b-4d9d-4ca4-add8-e7d9b6d2d719"
      },
      "outputs": [
        {
          "output_type": "stream",
          "name": "stderr",
          "text": [
            "[nltk_data] Downloading package omw-1.4 to /root/nltk_data...\n",
            "[nltk_data]   Package omw-1.4 is already up-to-date!\n",
            "[nltk_data] Downloading package stopwords to /root/nltk_data...\n",
            "[nltk_data]   Package stopwords is already up-to-date!\n",
            "[nltk_data] Downloading package wordnet to /root/nltk_data...\n"
          ]
        },
        {
          "output_type": "execute_result",
          "data": {
            "text/plain": [
              "True"
            ]
          },
          "metadata": {},
          "execution_count": 25
        }
      ],
      "source": [
        "import string\n",
        "import numpy as np\n",
        "import pandas as pd\n",
        "import seaborn as sns\n",
        "import matplotlib.pyplot as plt\n",
        "import tensorflow as tf\n",
        "import pickle\n",
        "import re\n",
        "from wordcloud import WordCloud\n",
        "from collections import Counter\n",
        "from geopy.geocoders import ArcGIS\n",
        "import folium\n",
        "\n",
        "\n",
        "# Preprocessing and evaluation\n",
        "import nltk\n",
        "from textblob import TextBlob\n",
        "from nltk.corpus import stopwords\n",
        "from nltk.sentiment.vader import SentimentIntensityAnalyzer\n",
        "from nltk.stem.snowball import SnowballStemmer\n",
        "from nltk.stem.wordnet import WordNetLemmatizer\n",
        "from sklearn.model_selection import train_test_split, StratifiedKFold, cross_val_score\n",
        "from sklearn.preprocessing import LabelBinarizer\n",
        "from sklearn.feature_extraction.text import TfidfVectorizer\n",
        "from sklearn.metrics import accuracy_score, precision_score, recall_score, f1_score, confusion_matrix, classification_report\n",
        "\n",
        "from tensorflow.keras.preprocessing.text import Tokenizer\n",
        "from tensorflow.keras.preprocessing.sequence import pad_sequences\n",
        "from tensorflow.keras.regularizers import l1, l2\n",
        "\n",
        "pd.set_option('display.max_colwidth', 500)\n",
        "nltk.download('omw-1.4')\n",
        "nltk.download('stopwords')\n",
        "nltk.download('wordnet')\n",
        "\n",
        "\n"
      ]
    },
    {
      "cell_type": "markdown",
      "metadata": {
        "id": "fuQcdCQNkFy0"
      },
      "source": [
        "<h1><b><span style=\"color: #e56b6f; font-size: 28px\">DATA LOADING</span></b></h1>\n"
      ]
    },
    {
      "cell_type": "markdown",
      "metadata": {
        "id": "KQ3rxLUkahi7"
      },
      "source": [
        "## Helper Function"
      ]
    },
    {
      "cell_type": "code",
      "execution_count": 2,
      "metadata": {
        "id": "HAbVFh9Uahi8"
      },
      "outputs": [],
      "source": [
        "class CleanTweet():\n",
        "    '''\n",
        "    Remove non-english characters and newline char\n",
        "    Remove numbers, hyperlink, mentions and hashtags\n",
        "    '''\n",
        "    def __init__(self, pattern):\n",
        "        self.pattern = pattern\n",
        "\n",
        "    def __call__(self, text):\n",
        "        if isinstance(text, str):\n",
        "            tweet = text\n",
        "\n",
        "        tweet = re.sub(self.pattern, '', tweet)\n",
        "\n",
        "        return tweet\n",
        "\n",
        "clean = CleanTweet(r'(\\n+)|([0-9])|(#?\\s?[^\\u0000-\\u05C0\\u2100-\\u214F]+)|'\n",
        "                   r'(#[A-Za-z0-9]+)|(https?:\\/\\/.*[\\r\\n]*)|(@[A-Za-z0-9]+)')\n",
        "\n",
        "def cleanLemmatize(text):\n",
        "    #remove punctuations and uppercase\n",
        "    clean_text = text.translate(str.maketrans('','',string.punctuation)).lower()\n",
        "\n",
        "    #remove stopwords\n",
        "    clean_text = [word for word in clean_text.split() if word not in stopwords.words('english')]\n",
        "\n",
        "    #lemmatize the word\n",
        "    sentence = []\n",
        "    for word in clean_text:\n",
        "        lemmatizer = WordNetLemmatizer()\n",
        "        sentence.append(lemmatizer.lemmatize(word, 'v'))\n",
        "\n",
        "    return ' '.join(sentence)\n",
        "\n",
        "def plotWordCloud(df, title):\n",
        "    '''\n",
        "    Word Cloud\n",
        "    '''\n",
        "    wc = WordCloud(max_words=1000, min_font_size=10,\n",
        "                    height=800,width=1600,background_color=\"white\",\n",
        "                    colormap='flare').generate(' '.join(df['Cleaned Tweet']))\n",
        "    plt.figure(1, figsize=(15, 15))\n",
        "    plt.title(title)\n",
        "    plt.axis('off')\n",
        "    plt.imshow(wc)\n",
        "\n",
        "def getSentiment(tweet):\n",
        "\n",
        "    '''\n",
        "    get tweet sentiment\n",
        "    '''\n",
        "\n",
        "    def getPolarity(tweet):\n",
        "        return TextBlob(tweet).sentiment.polarity\n",
        "\n",
        "    polarity = getPolarity(tweet)\n",
        "\n",
        "    if polarity > 0:\n",
        "        sentiment = 'Positive'\n",
        "\n",
        "    elif polarity == 0:\n",
        "        sentiment = 'Neutral'\n",
        "\n",
        "    else:\n",
        "        sentiment = 'Negative'\n",
        "\n",
        "    return sentiment\n",
        "\n",
        "def dfInfo(df,name):\n",
        "    negative = df[df.sentiment == 0].shape[0]\n",
        "    neutral = df[df.sentiment == 1].shape[0]\n",
        "    positive = df[df.sentiment == 2].shape[0]\n",
        "\n",
        "    print(f\"\\n{name} -----> shape : {df.shape}\")\n",
        "    print(f\"{name} -----> negative: {negative}, neutral: {neutral}, positive: {positive}\\n\")\n",
        "\n",
        "    return None"
      ]
    },
    {
      "cell_type": "code",
      "execution_count": 3,
      "metadata": {
        "colab": {
          "base_uri": "https://localhost:8080/",
          "height": 206
        },
        "id": "5m1_UtRKkFzC",
        "outputId": "40e60bd4-477b-4e9c-9f0f-9e9e80816e71",
        "scrolled": false
      },
      "outputs": [
        {
          "output_type": "execute_result",
          "data": {
            "text/plain": [
              "                                                                                                                                    text  \\\n",
              "0                                                                         come ask leave house sunday live eviction show move white room   \n",
              "1                                                                                          gonna lie big brother mess isnt fair even fan   \n",
              "2  production team doesnt care bite people mental health sad cant begin imagine whats go head right whos military already battle anxiety   \n",
              "3                                                                                                   kayode one responsible show bore hms   \n",
              "4                                                                                      video s fan protest bbnaijas eviction twist lagos   \n",
              "\n",
              "   sentiment  \n",
              "0          2  \n",
              "1          2  \n",
              "2          0  \n",
              "3          2  \n",
              "4          1  "
            ],
            "text/html": [
              "\n",
              "  <div id=\"df-03bc2412-1369-4157-932f-bdcc9c0b2eab\" class=\"colab-df-container\">\n",
              "    <div>\n",
              "<style scoped>\n",
              "    .dataframe tbody tr th:only-of-type {\n",
              "        vertical-align: middle;\n",
              "    }\n",
              "\n",
              "    .dataframe tbody tr th {\n",
              "        vertical-align: top;\n",
              "    }\n",
              "\n",
              "    .dataframe thead th {\n",
              "        text-align: right;\n",
              "    }\n",
              "</style>\n",
              "<table border=\"1\" class=\"dataframe\">\n",
              "  <thead>\n",
              "    <tr style=\"text-align: right;\">\n",
              "      <th></th>\n",
              "      <th>text</th>\n",
              "      <th>sentiment</th>\n",
              "    </tr>\n",
              "  </thead>\n",
              "  <tbody>\n",
              "    <tr>\n",
              "      <th>0</th>\n",
              "      <td>come ask leave house sunday live eviction show move white room</td>\n",
              "      <td>2</td>\n",
              "    </tr>\n",
              "    <tr>\n",
              "      <th>1</th>\n",
              "      <td>gonna lie big brother mess isnt fair even fan</td>\n",
              "      <td>2</td>\n",
              "    </tr>\n",
              "    <tr>\n",
              "      <th>2</th>\n",
              "      <td>production team doesnt care bite people mental health sad cant begin imagine whats go head right whos military already battle anxiety</td>\n",
              "      <td>0</td>\n",
              "    </tr>\n",
              "    <tr>\n",
              "      <th>3</th>\n",
              "      <td>kayode one responsible show bore hms</td>\n",
              "      <td>2</td>\n",
              "    </tr>\n",
              "    <tr>\n",
              "      <th>4</th>\n",
              "      <td>video s fan protest bbnaijas eviction twist lagos</td>\n",
              "      <td>1</td>\n",
              "    </tr>\n",
              "  </tbody>\n",
              "</table>\n",
              "</div>\n",
              "    <div class=\"colab-df-buttons\">\n",
              "\n",
              "  <div class=\"colab-df-container\">\n",
              "    <button class=\"colab-df-convert\" onclick=\"convertToInteractive('df-03bc2412-1369-4157-932f-bdcc9c0b2eab')\"\n",
              "            title=\"Convert this dataframe to an interactive table.\"\n",
              "            style=\"display:none;\">\n",
              "\n",
              "  <svg xmlns=\"http://www.w3.org/2000/svg\" height=\"24px\" viewBox=\"0 -960 960 960\">\n",
              "    <path d=\"M120-120v-720h720v720H120Zm60-500h600v-160H180v160Zm220 220h160v-160H400v160Zm0 220h160v-160H400v160ZM180-400h160v-160H180v160Zm440 0h160v-160H620v160ZM180-180h160v-160H180v160Zm440 0h160v-160H620v160Z\"/>\n",
              "  </svg>\n",
              "    </button>\n",
              "\n",
              "  <style>\n",
              "    .colab-df-container {\n",
              "      display:flex;\n",
              "      gap: 12px;\n",
              "    }\n",
              "\n",
              "    .colab-df-convert {\n",
              "      background-color: #E8F0FE;\n",
              "      border: none;\n",
              "      border-radius: 50%;\n",
              "      cursor: pointer;\n",
              "      display: none;\n",
              "      fill: #1967D2;\n",
              "      height: 32px;\n",
              "      padding: 0 0 0 0;\n",
              "      width: 32px;\n",
              "    }\n",
              "\n",
              "    .colab-df-convert:hover {\n",
              "      background-color: #E2EBFA;\n",
              "      box-shadow: 0px 1px 2px rgba(60, 64, 67, 0.3), 0px 1px 3px 1px rgba(60, 64, 67, 0.15);\n",
              "      fill: #174EA6;\n",
              "    }\n",
              "\n",
              "    .colab-df-buttons div {\n",
              "      margin-bottom: 4px;\n",
              "    }\n",
              "\n",
              "    [theme=dark] .colab-df-convert {\n",
              "      background-color: #3B4455;\n",
              "      fill: #D2E3FC;\n",
              "    }\n",
              "\n",
              "    [theme=dark] .colab-df-convert:hover {\n",
              "      background-color: #434B5C;\n",
              "      box-shadow: 0px 1px 3px 1px rgba(0, 0, 0, 0.15);\n",
              "      filter: drop-shadow(0px 1px 2px rgba(0, 0, 0, 0.3));\n",
              "      fill: #FFFFFF;\n",
              "    }\n",
              "  </style>\n",
              "\n",
              "    <script>\n",
              "      const buttonEl =\n",
              "        document.querySelector('#df-03bc2412-1369-4157-932f-bdcc9c0b2eab button.colab-df-convert');\n",
              "      buttonEl.style.display =\n",
              "        google.colab.kernel.accessAllowed ? 'block' : 'none';\n",
              "\n",
              "      async function convertToInteractive(key) {\n",
              "        const element = document.querySelector('#df-03bc2412-1369-4157-932f-bdcc9c0b2eab');\n",
              "        const dataTable =\n",
              "          await google.colab.kernel.invokeFunction('convertToInteractive',\n",
              "                                                    [key], {});\n",
              "        if (!dataTable) return;\n",
              "\n",
              "        const docLinkHtml = 'Like what you see? Visit the ' +\n",
              "          '<a target=\"_blank\" href=https://colab.research.google.com/notebooks/data_table.ipynb>data table notebook</a>'\n",
              "          + ' to learn more about interactive tables.';\n",
              "        element.innerHTML = '';\n",
              "        dataTable['output_type'] = 'display_data';\n",
              "        await google.colab.output.renderOutput(dataTable, element);\n",
              "        const docLink = document.createElement('div');\n",
              "        docLink.innerHTML = docLinkHtml;\n",
              "        element.appendChild(docLink);\n",
              "      }\n",
              "    </script>\n",
              "  </div>\n",
              "\n",
              "\n",
              "<div id=\"df-8384d0f5-6563-4863-abf3-5729f472f77a\">\n",
              "  <button class=\"colab-df-quickchart\" onclick=\"quickchart('df-8384d0f5-6563-4863-abf3-5729f472f77a')\"\n",
              "            title=\"Suggest charts\"\n",
              "            style=\"display:none;\">\n",
              "\n",
              "<svg xmlns=\"http://www.w3.org/2000/svg\" height=\"24px\"viewBox=\"0 0 24 24\"\n",
              "     width=\"24px\">\n",
              "    <g>\n",
              "        <path d=\"M19 3H5c-1.1 0-2 .9-2 2v14c0 1.1.9 2 2 2h14c1.1 0 2-.9 2-2V5c0-1.1-.9-2-2-2zM9 17H7v-7h2v7zm4 0h-2V7h2v10zm4 0h-2v-4h2v4z\"/>\n",
              "    </g>\n",
              "</svg>\n",
              "  </button>\n",
              "\n",
              "<style>\n",
              "  .colab-df-quickchart {\n",
              "      --bg-color: #E8F0FE;\n",
              "      --fill-color: #1967D2;\n",
              "      --hover-bg-color: #E2EBFA;\n",
              "      --hover-fill-color: #174EA6;\n",
              "      --disabled-fill-color: #AAA;\n",
              "      --disabled-bg-color: #DDD;\n",
              "  }\n",
              "\n",
              "  [theme=dark] .colab-df-quickchart {\n",
              "      --bg-color: #3B4455;\n",
              "      --fill-color: #D2E3FC;\n",
              "      --hover-bg-color: #434B5C;\n",
              "      --hover-fill-color: #FFFFFF;\n",
              "      --disabled-bg-color: #3B4455;\n",
              "      --disabled-fill-color: #666;\n",
              "  }\n",
              "\n",
              "  .colab-df-quickchart {\n",
              "    background-color: var(--bg-color);\n",
              "    border: none;\n",
              "    border-radius: 50%;\n",
              "    cursor: pointer;\n",
              "    display: none;\n",
              "    fill: var(--fill-color);\n",
              "    height: 32px;\n",
              "    padding: 0;\n",
              "    width: 32px;\n",
              "  }\n",
              "\n",
              "  .colab-df-quickchart:hover {\n",
              "    background-color: var(--hover-bg-color);\n",
              "    box-shadow: 0 1px 2px rgba(60, 64, 67, 0.3), 0 1px 3px 1px rgba(60, 64, 67, 0.15);\n",
              "    fill: var(--button-hover-fill-color);\n",
              "  }\n",
              "\n",
              "  .colab-df-quickchart-complete:disabled,\n",
              "  .colab-df-quickchart-complete:disabled:hover {\n",
              "    background-color: var(--disabled-bg-color);\n",
              "    fill: var(--disabled-fill-color);\n",
              "    box-shadow: none;\n",
              "  }\n",
              "\n",
              "  .colab-df-spinner {\n",
              "    border: 2px solid var(--fill-color);\n",
              "    border-color: transparent;\n",
              "    border-bottom-color: var(--fill-color);\n",
              "    animation:\n",
              "      spin 1s steps(1) infinite;\n",
              "  }\n",
              "\n",
              "  @keyframes spin {\n",
              "    0% {\n",
              "      border-color: transparent;\n",
              "      border-bottom-color: var(--fill-color);\n",
              "      border-left-color: var(--fill-color);\n",
              "    }\n",
              "    20% {\n",
              "      border-color: transparent;\n",
              "      border-left-color: var(--fill-color);\n",
              "      border-top-color: var(--fill-color);\n",
              "    }\n",
              "    30% {\n",
              "      border-color: transparent;\n",
              "      border-left-color: var(--fill-color);\n",
              "      border-top-color: var(--fill-color);\n",
              "      border-right-color: var(--fill-color);\n",
              "    }\n",
              "    40% {\n",
              "      border-color: transparent;\n",
              "      border-right-color: var(--fill-color);\n",
              "      border-top-color: var(--fill-color);\n",
              "    }\n",
              "    60% {\n",
              "      border-color: transparent;\n",
              "      border-right-color: var(--fill-color);\n",
              "    }\n",
              "    80% {\n",
              "      border-color: transparent;\n",
              "      border-right-color: var(--fill-color);\n",
              "      border-bottom-color: var(--fill-color);\n",
              "    }\n",
              "    90% {\n",
              "      border-color: transparent;\n",
              "      border-bottom-color: var(--fill-color);\n",
              "    }\n",
              "  }\n",
              "</style>\n",
              "\n",
              "  <script>\n",
              "    async function quickchart(key) {\n",
              "      const quickchartButtonEl =\n",
              "        document.querySelector('#' + key + ' button');\n",
              "      quickchartButtonEl.disabled = true;  // To prevent multiple clicks.\n",
              "      quickchartButtonEl.classList.add('colab-df-spinner');\n",
              "      try {\n",
              "        const charts = await google.colab.kernel.invokeFunction(\n",
              "            'suggestCharts', [key], {});\n",
              "      } catch (error) {\n",
              "        console.error('Error during call to suggestCharts:', error);\n",
              "      }\n",
              "      quickchartButtonEl.classList.remove('colab-df-spinner');\n",
              "      quickchartButtonEl.classList.add('colab-df-quickchart-complete');\n",
              "    }\n",
              "    (() => {\n",
              "      let quickchartButtonEl =\n",
              "        document.querySelector('#df-8384d0f5-6563-4863-abf3-5729f472f77a button');\n",
              "      quickchartButtonEl.style.display =\n",
              "        google.colab.kernel.accessAllowed ? 'block' : 'none';\n",
              "    })();\n",
              "  </script>\n",
              "</div>\n",
              "    </div>\n",
              "  </div>\n"
            ]
          },
          "metadata": {},
          "execution_count": 3
        }
      ],
      "source": [
        "\n",
        "new_df = pd.read_csv('processed_data.csv')\n",
        "new_df.head()"
      ]
    },
    {
      "cell_type": "code",
      "execution_count": 4,
      "metadata": {
        "id": "xkKhdiT8kFzC",
        "scrolled": false,
        "colab": {
          "base_uri": "https://localhost:8080/"
        },
        "outputId": "2085c0a0-f43e-4e18-e5f0-49e7fc3cce24"
      },
      "outputs": [
        {
          "output_type": "stream",
          "name": "stdout",
          "text": [
            "\n",
            "train -----> shape : (15284, 2)\n",
            "train -----> negative: 2197, neutral: 7021, positive: 6066\n",
            "\n",
            "\n",
            "validation -----> shape : (3822, 2)\n",
            "validation -----> negative: 562, neutral: 1729, positive: 1531\n",
            "\n"
          ]
        }
      ],
      "source": [
        "train, test = train_test_split(new_df, test_size = 0.2, shuffle=True)\n",
        "\n",
        "dfInfo(train, 'train')\n",
        "dfInfo(test, 'validation')\n",
        "\n",
        "train_x, train_y = train['text'], train['sentiment']\n",
        "\n",
        "test_x, test_y = test['text'], test['sentiment']"
      ]
    },
    {
      "cell_type": "code",
      "execution_count": 5,
      "metadata": {
        "colab": {
          "base_uri": "https://localhost:8080/"
        },
        "id": "ceyGUU4mahjX",
        "outputId": "0ea92a1c-e3e3-43f2-d553-25290e9fc459"
      },
      "outputs": [
        {
          "output_type": "execute_result",
          "data": {
            "text/plain": [
              "7953     0\n",
              "10888    0\n",
              "8613     0\n",
              "18532    2\n",
              "4779     2\n",
              "        ..\n",
              "7045     1\n",
              "2960     1\n",
              "724      0\n",
              "8469     2\n",
              "18968    1\n",
              "Name: sentiment, Length: 15284, dtype: int64"
            ]
          },
          "metadata": {},
          "execution_count": 5
        }
      ],
      "source": [
        "train_y"
      ]
    },
    {
      "cell_type": "code",
      "execution_count": 6,
      "metadata": {
        "id": "JYBW6823yPKd",
        "scrolled": false
      },
      "outputs": [],
      "source": [
        "from sklearn.preprocessing import OneHotEncoder\n",
        "train_y = OneHotEncoder().fit_transform(np.array(train_y).reshape(-1, 1))\n",
        "test_y = OneHotEncoder().fit_transform(np.array(test_y).reshape(-1, 1))\n"
      ]
    },
    {
      "cell_type": "code",
      "execution_count": 7,
      "metadata": {
        "colab": {
          "base_uri": "https://localhost:8080/"
        },
        "id": "C4wBuQoqzBIH",
        "outputId": "504ab076-3055-4bcd-b62e-3deb1d6e1ad4",
        "scrolled": false
      },
      "outputs": [
        {
          "output_type": "execute_result",
          "data": {
            "text/plain": [
              "array([[1., 0., 0.],\n",
              "       [1., 0., 0.],\n",
              "       [1., 0., 0.],\n",
              "       ...,\n",
              "       [1., 0., 0.],\n",
              "       [0., 0., 1.],\n",
              "       [0., 1., 0.]])"
            ]
          },
          "metadata": {},
          "execution_count": 7
        }
      ],
      "source": [
        "train_y.toarray()"
      ]
    },
    {
      "cell_type": "markdown",
      "metadata": {
        "id": "gcx1y41akFzD"
      },
      "source": [
        "<h1><b><span style=\"color: #e56b6f; font-size: 28px\">MODEL BUILDING</span></b></h1>\n"
      ]
    },
    {
      "cell_type": "markdown",
      "metadata": {
        "id": "AFkAc9dgahji"
      },
      "source": [
        "<h1><b><span style=\"color: #e56b6f; font-size: 20px\">LSTM</span></b></h1>\n"
      ]
    },
    {
      "cell_type": "code",
      "execution_count": 8,
      "metadata": {
        "colab": {
          "base_uri": "https://localhost:8080/"
        },
        "id": "VGX7UWcZkFzD",
        "outputId": "25b6ec26-1db0-4de2-ed37-895f1e35823d",
        "scrolled": false
      },
      "outputs": [
        {
          "output_type": "stream",
          "name": "stdout",
          "text": [
            "Total distinct words: 14127\n"
          ]
        }
      ],
      "source": [
        "tokenizer = Tokenizer(num_words=50000, oov_token='<OOV>')\n",
        "tokenizer.fit_on_texts(train_x.astype('str'))\n",
        "total_word = len(tokenizer.word_index)\n",
        "print('Total distinct words: {}'.format(total_word))\n",
        "\n",
        "train_seq = tokenizer.texts_to_sequences(train_x.astype('str'))\n",
        "train_padded = pad_sequences(train_seq, maxlen=50, padding='post')\n",
        "\n",
        "test_seq = tokenizer.texts_to_sequences(test_x.astype('str'))\n",
        "test_padded = pad_sequences(test_seq, maxlen=50, padding='post')"
      ]
    },
    {
      "cell_type": "code",
      "execution_count": 9,
      "metadata": {
        "colab": {
          "base_uri": "https://localhost:8080/"
        },
        "id": "eVghBahvm7H2",
        "outputId": "db4e4536-4042-4e07-8092-2c14b60168e8",
        "scrolled": false
      },
      "outputs": [
        {
          "output_type": "execute_result",
          "data": {
            "text/plain": [
              "(15284, 50)"
            ]
          },
          "metadata": {},
          "execution_count": 9
        }
      ],
      "source": [
        "train_padded.shape"
      ]
    },
    {
      "cell_type": "code",
      "execution_count": 10,
      "metadata": {
        "id": "_J1p_MSWkFzE",
        "scrolled": false
      },
      "outputs": [],
      "source": [
        "pickle.dump(tokenizer, open('tokenizer.pkl', 'wb'))"
      ]
    },
    {
      "cell_type": "code",
      "execution_count": 11,
      "metadata": {
        "id": "Yqm6movckFzE",
        "scrolled": false
      },
      "outputs": [],
      "source": [
        "def LSTM():\n",
        "\n",
        "    from keras.constraints import max_norm\n",
        "\n",
        "\n",
        "    model = tf.keras.models.Sequential([\n",
        "                tf.keras.layers.Embedding(50000,128,input_length=train_padded.shape[1]),\n",
        "                tf.keras.layers.Dropout(0.5),\n",
        "                tf.keras.layers.LSTM(32,kernel_constraint=max_norm(3)),\n",
        "                tf.keras.layers.Dense(32,activation='relu',kernel_regularizer=l2(0.01)),\n",
        "                tf.keras.layers.Dropout(0.5),\n",
        "                tf.keras.layers.Dense(3,activation='softmax')\n",
        "            ])\n",
        "\n",
        "    print(model.summary())\n",
        "\n",
        "    model.compile(optimizer=tf.optimizers.Adam(learning_rate=0.0001), loss='categorical_crossentropy', metrics=['accuracy'])\n",
        "\n",
        "    model.fit(train_padded, train_y.toarray(), epochs=25, validation_data=(test_padded, test_y.toarray()))\n",
        "\n",
        "    return model\n"
      ]
    },
    {
      "cell_type": "code",
      "execution_count": 12,
      "metadata": {
        "colab": {
          "base_uri": "https://localhost:8080/"
        },
        "id": "4Jwp8Cr-kFzF",
        "outputId": "cb9405a9-56d8-4111-e074-5693029127a9",
        "scrolled": false
      },
      "outputs": [
        {
          "output_type": "stream",
          "name": "stdout",
          "text": [
            "Model: \"sequential\"\n",
            "_________________________________________________________________\n",
            " Layer (type)                Output Shape              Param #   \n",
            "=================================================================\n",
            " embedding (Embedding)       (None, 50, 128)           6400000   \n",
            "                                                                 \n",
            " dropout (Dropout)           (None, 50, 128)           0         \n",
            "                                                                 \n",
            " lstm (LSTM)                 (None, 32)                20608     \n",
            "                                                                 \n",
            " dense (Dense)               (None, 32)                1056      \n",
            "                                                                 \n",
            " dropout_1 (Dropout)         (None, 32)                0         \n",
            "                                                                 \n",
            " dense_1 (Dense)             (None, 3)                 99        \n",
            "                                                                 \n",
            "=================================================================\n",
            "Total params: 6421763 (24.50 MB)\n",
            "Trainable params: 6421763 (24.50 MB)\n",
            "Non-trainable params: 0 (0.00 Byte)\n",
            "_________________________________________________________________\n",
            "None\n",
            "Epoch 1/25\n",
            "478/478 [==============================] - 31s 44ms/step - loss: 1.3122 - accuracy: 0.4376 - val_loss: 1.2306 - val_accuracy: 0.4524\n",
            "Epoch 2/25\n",
            "478/478 [==============================] - 6s 13ms/step - loss: 1.1904 - accuracy: 0.4575 - val_loss: 1.0751 - val_accuracy: 0.5479\n",
            "Epoch 3/25\n",
            "478/478 [==============================] - 6s 12ms/step - loss: 0.9256 - accuracy: 0.6716 - val_loss: 0.7647 - val_accuracy: 0.7517\n",
            "Epoch 4/25\n",
            "478/478 [==============================] - 4s 9ms/step - loss: 0.6958 - accuracy: 0.7774 - val_loss: 0.6499 - val_accuracy: 0.7844\n",
            "Epoch 5/25\n",
            "478/478 [==============================] - 7s 14ms/step - loss: 0.5972 - accuracy: 0.8090 - val_loss: 0.5957 - val_accuracy: 0.8022\n",
            "Epoch 6/25\n",
            "478/478 [==============================] - 4s 8ms/step - loss: 0.5308 - accuracy: 0.8238 - val_loss: 0.5559 - val_accuracy: 0.8090\n",
            "Epoch 7/25\n",
            "478/478 [==============================] - 4s 9ms/step - loss: 0.4969 - accuracy: 0.8307 - val_loss: 0.5345 - val_accuracy: 0.8111\n",
            "Epoch 8/25\n",
            "478/478 [==============================] - 7s 16ms/step - loss: 0.4683 - accuracy: 0.8353 - val_loss: 0.5245 - val_accuracy: 0.8100\n",
            "Epoch 9/25\n",
            "478/478 [==============================] - 5s 11ms/step - loss: 0.4470 - accuracy: 0.8395 - val_loss: 0.5516 - val_accuracy: 0.8134\n",
            "Epoch 10/25\n",
            "478/478 [==============================] - 5s 10ms/step - loss: 0.4295 - accuracy: 0.8426 - val_loss: 0.5310 - val_accuracy: 0.8145\n",
            "Epoch 11/25\n",
            "478/478 [==============================] - 5s 10ms/step - loss: 0.4154 - accuracy: 0.8437 - val_loss: 0.5175 - val_accuracy: 0.8168\n",
            "Epoch 12/25\n",
            "478/478 [==============================] - 7s 16ms/step - loss: 0.4082 - accuracy: 0.8449 - val_loss: 0.5122 - val_accuracy: 0.8174\n",
            "Epoch 13/25\n",
            "478/478 [==============================] - 8s 16ms/step - loss: 0.4003 - accuracy: 0.8461 - val_loss: 0.5167 - val_accuracy: 0.8145\n",
            "Epoch 14/25\n",
            "478/478 [==============================] - 8s 16ms/step - loss: 0.3947 - accuracy: 0.8472 - val_loss: 0.5051 - val_accuracy: 0.8179\n",
            "Epoch 15/25\n",
            "478/478 [==============================] - 7s 15ms/step - loss: 0.3884 - accuracy: 0.8479 - val_loss: 0.5002 - val_accuracy: 0.8158\n",
            "Epoch 16/25\n",
            "478/478 [==============================] - 4s 8ms/step - loss: 0.3861 - accuracy: 0.8476 - val_loss: 0.4919 - val_accuracy: 0.8124\n",
            "Epoch 17/25\n",
            "478/478 [==============================] - 5s 10ms/step - loss: 0.3727 - accuracy: 0.8479 - val_loss: 0.4879 - val_accuracy: 0.8166\n",
            "Epoch 18/25\n",
            "478/478 [==============================] - 4s 9ms/step - loss: 0.3567 - accuracy: 0.8498 - val_loss: 0.4773 - val_accuracy: 0.8111\n",
            "Epoch 19/25\n",
            "478/478 [==============================] - 7s 15ms/step - loss: 0.3453 - accuracy: 0.8633 - val_loss: 0.4667 - val_accuracy: 0.8187\n",
            "Epoch 20/25\n",
            "478/478 [==============================] - 6s 12ms/step - loss: 0.3240 - accuracy: 0.8822 - val_loss: 0.4631 - val_accuracy: 0.8433\n",
            "Epoch 21/25\n",
            "478/478 [==============================] - 4s 8ms/step - loss: 0.3093 - accuracy: 0.8943 - val_loss: 0.4593 - val_accuracy: 0.8475\n",
            "Epoch 22/25\n",
            "478/478 [==============================] - 4s 8ms/step - loss: 0.2955 - accuracy: 0.9053 - val_loss: 0.4546 - val_accuracy: 0.8485\n",
            "Epoch 23/25\n",
            "478/478 [==============================] - 5s 10ms/step - loss: 0.2776 - accuracy: 0.9142 - val_loss: 0.4729 - val_accuracy: 0.8462\n",
            "Epoch 24/25\n",
            "478/478 [==============================] - 4s 8ms/step - loss: 0.2703 - accuracy: 0.9216 - val_loss: 0.4895 - val_accuracy: 0.8472\n",
            "Epoch 25/25\n",
            "478/478 [==============================] - 4s 8ms/step - loss: 0.2560 - accuracy: 0.9263 - val_loss: 0.4785 - val_accuracy: 0.8396\n"
          ]
        }
      ],
      "source": [
        "model = LSTM()"
      ]
    },
    {
      "cell_type": "code",
      "execution_count": 13,
      "metadata": {
        "colab": {
          "base_uri": "https://localhost:8080/",
          "height": 861
        },
        "id": "uZjI_mWLkFzF",
        "outputId": "b321e2ad-6120-48d9-bc3c-3066e1ca5f2c",
        "scrolled": false
      },
      "outputs": [
        {
          "output_type": "execute_result",
          "data": {
            "text/plain": [
              "<Axes: >"
            ]
          },
          "metadata": {},
          "execution_count": 13
        },
        {
          "output_type": "display_data",
          "data": {
            "text/plain": [
              "<Figure size 640x480 with 1 Axes>"
            ],
            "image/png": "[encoded data removed]"
          },
          "metadata": {}
        },
        {
          "output_type": "display_data",
          "data": {
            "text/plain": [
              "<Figure size 640x480 with 1 Axes>"
            ],
            "image/png": "[encoded data removed]"
          },
          "metadata": {}
        }
      ],
      "source": [
        "metrics = pd.DataFrame(model.history.history)\n",
        "metrics[['accuracy', 'val_accuracy']].plot()\n",
        "metrics[['loss', 'val_loss']].plot()"
      ]
    },
    {
      "cell_type": "code",
      "execution_count": 14,
      "metadata": {
        "colab": {
          "base_uri": "https://localhost:8080/"
        },
        "id": "ry1iburNkFzF",
        "outputId": "787082a5-a0d4-4c49-86cf-3a735db5dbaf",
        "scrolled": false
      },
      "outputs": [
        {
          "output_type": "stream",
          "name": "stdout",
          "text": [
            "120/120 [==============================] - 0s 4ms/step - loss: 0.4785 - accuracy: 0.8396\n",
            "Testing Accuracy(%):  83.96127820014954\n"
          ]
        }
      ],
      "source": [
        "test_acc = model.evaluate(test_padded, test_y.toarray())\n",
        "print(\"Testing Accuracy(%): \", test_acc[1]*100)\n",
        "\n"
      ]
    },
    {
      "cell_type": "code",
      "execution_count": 15,
      "metadata": {
        "colab": {
          "base_uri": "https://localhost:8080/"
        },
        "id": "GHG_rymR3aGO",
        "outputId": "ed74f4f9-e211-4493-89df-3018fc26bd21",
        "scrolled": false
      },
      "outputs": [
        {
          "output_type": "stream",
          "name": "stdout",
          "text": [
            "120/120 [==============================] - 1s 3ms/step\n"
          ]
        }
      ],
      "source": [
        "y_pred = model.predict(test_padded)\n",
        "y_predicted_labels = np.array([ np.argmax(i) for i in y_pred])\n",
        "y_test_labels = np.array([ np.argmax(i) for i in test_y.toarray()])"
      ]
    },
    {
      "cell_type": "code",
      "execution_count": 16,
      "metadata": {
        "colab": {
          "base_uri": "https://localhost:8080/"
        },
        "id": "4ORWupXh5Es2",
        "outputId": "3e3d19ec-b4bc-4de2-f477-d14b18d0fe79",
        "scrolled": false
      },
      "outputs": [
        {
          "output_type": "execute_result",
          "data": {
            "text/plain": [
              "array([0, 1, 2])"
            ]
          },
          "metadata": {},
          "execution_count": 16
        }
      ],
      "source": [
        "np.unique(y_predicted_labels)"
      ]
    },
    {
      "cell_type": "code",
      "execution_count": 17,
      "metadata": {
        "colab": {
          "base_uri": "https://localhost:8080/",
          "height": 465
        },
        "id": "rhrqWjWT3p9c",
        "outputId": "8c189f1c-0c3f-4058-ea31-c22c11f1d2dc",
        "scrolled": false
      },
      "outputs": [
        {
          "output_type": "display_data",
          "data": {
            "text/plain": [
              "<Figure size 500x500 with 2 Axes>"
            ],
            "image/png": "[encoded data removed]"
          },
          "metadata": {}
        }
      ],
      "source": [
        "import seaborn as sn\n",
        "cm = confusion_matrix(y_test_labels, y_predicted_labels)\n",
        "labels=[\"bad\", \"neutral\", \"good\"]\n",
        "plt.figure(figsize=(5,5))\n",
        "sn.heatmap(cm,  xticklabels=labels, yticklabels=labels, fmt='d', annot=True, cmap=plt.cm.Blues)\n",
        "plt.xlabel('Predicted')\n",
        "plt.ylabel('Actual')\n",
        "plt.show()"
      ]
    },
    {
      "cell_type": "code",
      "execution_count": 19,
      "metadata": {
        "id": "spz4PccGkFzG",
        "scrolled": false
      },
      "outputs": [],
      "source": [
        "model.save('sentiment_model-lstm.h5')"
      ]
    },
    {
      "cell_type": "markdown",
      "metadata": {
        "id": "WmHpJw3gkFzG"
      },
      "source": [
        "<h1><b><span style=\"color: #e56b6f; font-size: 28px\">PREDICTION</span></b></h1>\n"
      ]
    },
    {
      "cell_type": "code",
      "source": [
        "!pip install colorama\n",
        "from colorama import Fore\n"
      ],
      "metadata": {
        "colab": {
          "base_uri": "https://localhost:8080/"
        },
        "id": "h5Ntq1NpdnE5",
        "outputId": "c37f5a6e-d7b3-4781-ca80-4b76c26396a3"
      },
      "execution_count": 27,
      "outputs": [
        {
          "output_type": "stream",
          "name": "stdout",
          "text": [
            "Collecting colorama\n",
            "  Downloading colorama-0.4.6-py2.py3-none-any.whl (25 kB)\n",
            "Installing collected packages: colorama\n",
            "Successfully installed colorama-0.4.6\n"
          ]
        }
      ]
    },
    {
      "cell_type": "code",
      "execution_count": 30,
      "metadata": {
        "id": "eAyAQd9ukFzr",
        "scrolled": false
      },
      "outputs": [],
      "source": [
        "# Deep Neural Network\n",
        "def dl_predict(text):\n",
        "    clean_text = cleanLemmatize(text)\n",
        "    seq = tokenizer.texts_to_sequences([str(clean_text)])\n",
        "    padded = pad_sequences(seq, maxlen=50, padding='post')\n",
        "\n",
        "    pred = model.predict(padded).argmax(1)[0]\n",
        "\n",
        "    if pred == 0:\n",
        "        sentiment = Fore.RED +'Negative'\n",
        "\n",
        "    elif pred == 1:\n",
        "        sentiment = Fore.BLACK + 'Neutral'\n",
        "\n",
        "    else:\n",
        "        sentiment = Fore.GREEN + 'Positive'\n",
        "\n",
        "    print(text + ' is a ' + sentiment + ' tweet ')\n",
        "\n",
        "    # return pred"
      ]
    },
    {
      "cell_type": "code",
      "execution_count": 32,
      "metadata": {
        "id": "UeqHvJMfkFzs",
        "scrolled": false,
        "colab": {
          "base_uri": "https://localhost:8080/"
        },
        "outputId": "de9454f9-13ac-4faa-def0-771c977eafe8"
      },
      "outputs": [
        {
          "output_type": "stream",
          "name": "stdout",
          "text": [
            "1/1 [==============================] - 0s 103ms/step\n",
            "Such a comfy place to stay with the loved one is a \u001b[32mPositive tweet \n"
          ]
        }
      ],
      "source": [
        "text = 'Such a comfy place to stay with the loved one'\n",
        "\n",
        "dl_predict(text)"
      ]
    },
    {
      "cell_type": "code",
      "source": [],
      "metadata": {
        "id": "iy3XzNpdeJsJ"
      },
      "execution_count": null,
      "outputs": []
    }
  ],
  "metadata": {
    "accelerator": "GPU",
    "colab": {
      "gpuType": "T4",
      "provenance": []
    },
    "kernelspec": {
      "display_name": "Python 3 (ipykernel)",
      "language": "python",
      "name": "python3"
    },
    "language_info": {
      "codemirror_mode": {
        "name": "ipython",
        "version": 3
      },
      "file_extension": ".py",
      "mimetype": "text/x-python",
      "name": "python",
      "nbconvert_exporter": "python",
      "pygments_lexer": "ipython3",
      "version": "3.10.12"
    }
  },
  "nbformat": 4,
  "nbformat_minor": 0
}